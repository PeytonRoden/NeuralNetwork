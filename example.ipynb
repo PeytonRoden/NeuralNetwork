{
 "cells": [
  {
   "cell_type": "code",
   "execution_count": null,
   "metadata": {},
   "outputs": [],
   "source": [
    "import numpy as np\n",
    "from neuralNet import neuralNet\n",
    "\n",
    "\n",
    "inputs = [0.33, 0.11]\n",
    "\n",
    "neural = neuralNet(2,[5,5],1)\n",
    "neural.generate_weights()\n",
    "print(neural.get_output(inputs))\n",
    "print(neural.loss([0.5]))\n",
    "\n",
    "for i in range(0,1000):\n",
    "    neural.get_output(inputs)\n",
    "    print(\"LOSS\",neural.loss([0.5]))\n",
    "    neural.get_gradients()\n",
    "    neural.adjust_weights(1 * (1/(i+1)))\n",
    "\n",
    "    print(neural.get_output(inputs))\n",
    "    print(neural.loss([0.5]))\n"
   ]
  }
 ],
 "metadata": {
  "kernelspec": {
   "display_name": "vnev",
   "language": "python",
   "name": "python3"
  },
  "language_info": {
   "name": "python",
   "version": "3.10.3 (tags/v3.10.3:a342a49, Mar 16 2022, 13:07:40) [MSC v.1929 64 bit (AMD64)]"
  },
  "orig_nbformat": 4,
  "vscode": {
   "interpreter": {
    "hash": "baf22c39058842faca06a0a58e056cff324cb60656e1a753c818ccd09b75b6f3"
   }
  }
 },
 "nbformat": 4,
 "nbformat_minor": 2
}
