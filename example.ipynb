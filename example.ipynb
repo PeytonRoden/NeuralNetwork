{
 "cells": [
  {
   "cell_type": "code",
   "execution_count": 29,
   "metadata": {},
   "outputs": [
    {
     "name": "stdout",
     "output_type": "stream",
     "text": [
      "[-0.03006675]\n",
      "[0.28097075]\n",
      "LOSS [0.28097075]\n",
      "[0.00482505]\n",
      "LOSS [0.24519824]\n",
      "[0.15351876]\n",
      "LOSS [0.12004925]\n",
      "[0.35432271]\n",
      "LOSS [0.02122187]\n",
      "[0.52782012]\n",
      "LOSS [0.00077396]\n",
      "[0.6282898]\n",
      "LOSS [0.01645827]\n",
      "[0.65788681]\n",
      "LOSS [0.02492824]\n",
      "[0.64486587]\n",
      "LOSS [0.02098612]\n",
      "[0.61727142]\n",
      "LOSS [0.01375259]\n",
      "[0.59104155]\n",
      "LOSS [0.00828856]\n",
      "[0.57121366]\n",
      "LOSS [0.00507139]\n",
      "[0.55738629]\n",
      "LOSS [0.00329319]\n",
      "[0.54776736]\n",
      "LOSS [0.00228172]\n",
      "[0.54083394]\n",
      "LOSS [0.00166741]\n",
      "[0.53561359]\n",
      "LOSS [0.00126833]\n",
      "[0.53153458]\n"
     ]
    }
   ],
   "source": [
    "import numpy as np\n",
    "from neuralNet import neuralNet\n",
    "\n",
    "\n",
    "inputs = [0.33, 0.11]\n",
    "\n",
    "neural = neuralNet(2,[8,8],1)\n",
    "neural.generate_weights()\n",
    "print(neural.get_output(inputs))\n",
    "print(neural.loss([0.5]))\n",
    "\n",
    "for i in range(0,15):\n",
    "    neural.get_output(inputs)\n",
    "    print(\"LOSS\",neural.loss([0.5]))\n",
    "    neural.get_gradients()\n",
    "    neural.adjust_weights(1 * (1/(i+1)))\n",
    "\n",
    "    print(neural.get_output(inputs))\n"
   ]
  }
 ],
 "metadata": {
  "kernelspec": {
   "display_name": "vnev",
   "language": "python",
   "name": "python3"
  },
  "language_info": {
   "codemirror_mode": {
    "name": "ipython",
    "version": 3
   },
   "file_extension": ".py",
   "mimetype": "text/x-python",
   "name": "python",
   "nbconvert_exporter": "python",
   "pygments_lexer": "ipython3",
   "version": "3.10.3"
  },
  "orig_nbformat": 4,
  "vscode": {
   "interpreter": {
    "hash": "baf22c39058842faca06a0a58e056cff324cb60656e1a753c818ccd09b75b6f3"
   }
  }
 },
 "nbformat": 4,
 "nbformat_minor": 2
}
